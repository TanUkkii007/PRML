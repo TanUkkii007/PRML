{
 "cells": [
  {
   "cell_type": "markdown",
   "metadata": {},
   "source": [
    "# 3.1\n",
    "\n",
    "$\\sigma(a) = \\frac{1}{1 + \\exp(-a)}$\n",
    "\n",
    "$\\mathrm{tanh}(a) = \\frac{\\exp(a) - \\exp(-a)}{\\exp(a) + \\exp(-a)}$\n",
    "\n",
    "$ = \\frac{1 - \\exp(-2a)}{1 + \\exp(-2a)}$\n",
    "\n",
    "$\\exp(-a) = \\frac{1}{\\sigma(a)} - 1$より、\n",
    "\n",
    "$\\mathrm{tanh}(a)  = \\left(1 - \\frac{1}{\\sigma(2a)} + 1\\right)/\\left(1 + \\frac{1}{\\sigma(2a)} - 1\\right)$\n",
    "\n",
    "$ = \\left(2 - \\frac{1}{\\sigma(2a)}\\right)\\sigma(2a)$\n",
    "\n",
    "$ = 2\\sigma(2a) - 1$\n",
    "\n",
    "---\n",
    "\n",
    "$y(x, \\mathbf{u}) = u_0 + \\sum_{j=1}^M u_j \\mathrm{tanh}\\left(\\frac{x - \\mu_j}{2s}\\right)$\n",
    "\n",
    "$ = u_0 + \\sum_{j=1}^M u_j \\left\\{2\\sigma\\left(2\\frac{x - \\mu_j}{2s}\\right) - 1\\right\\}$\n",
    "\n",
    "$ = u_0 - \\sum_{j=1}^M u_j + \\sum_{j=1}^M 2u_j \\sigma\\left(\\frac{x - \\mu_j}{s}\\right)$\n",
    "\n",
    "$y(x, \\mathbf{w}) = w_0 + \\sum_{j=1}^M w_j\\sigma \\left(\\frac{x - \\mu_j}{s}\\right)$と比較して、\n",
    "\n",
    "$w_0 = u_0 - \\sum_{j=1}^M u_j$\n",
    "\n",
    "$w_j = 2u_j$\n",
    "\n",
    "とおけば、両者は等価である。"
   ]
  }
 ],
 "metadata": {
  "kernelspec": {
   "display_name": "Python 3",
   "language": "python",
   "name": "python3"
  },
  "language_info": {
   "codemirror_mode": {
    "name": "ipython",
    "version": 3
   },
   "file_extension": ".py",
   "mimetype": "text/x-python",
   "name": "python",
   "nbconvert_exporter": "python",
   "pygments_lexer": "ipython3",
   "version": "3.5.1"
  }
 },
 "nbformat": 4,
 "nbformat_minor": 0
}
