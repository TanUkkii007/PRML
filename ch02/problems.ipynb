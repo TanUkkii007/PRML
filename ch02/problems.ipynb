{
 "cells": [
  {
   "cell_type": "markdown",
   "metadata": {},
   "source": [
    "# 2.1\n",
    "\n",
    "$\\mathrm{Bern}(x|y) = \\mu^x(1 - \\mu)^{1-x}$\n",
    "\n",
    "---\n",
    "\n",
    "$\\sum_{x=0}^1p(x|\\mu) = \\sum_{x=0}^1\\mu^x(1 - \\mu)^{1-x}$\n",
    "\n",
    "$ = (1 - \\mu) + \\mu$\n",
    "\n",
    "$ = 1$\n",
    "\n",
    "---\n",
    "\n",
    "$\\mathbb{E}[x] = \\sum_{x=0}^1 xp(x|\\mu)$\n",
    "\n",
    "$ = \\sum_{x=0}^1 x\\mu^x(1 - \\mu)^{1-x}$\n",
    "\n",
    "$ = \\mu$\n",
    "\n",
    "---\n",
    "\n",
    "$\\mathrm{var}[x] = \\mathbb{E}[x^2] - \\mathbb{E}[x]^2$\n",
    "\n",
    "$ = \\sum_{x=0}^1 x^2\\mu^x(1 - \\mu)^{1-x} - \\mu^2$\n",
    "\n",
    "$ = \\mu - \\mu^2$\n",
    "\n",
    "$ = \\mu(1 - \\mu)$\n",
    "\n",
    "---\n",
    "\n",
    "$H[x] = -\\sum_{x=0}^1p(x|\\mu) \\ln p(x|\\mu)$\n",
    "\n",
    "$ = -\\sum_{x=0}^1\\mu^x(1 - \\mu)^{1-x} \\ln \\{\\mu^x(1 - \\mu)^{1-x}\\}$\n",
    "\n",
    "$ = -\\sum_{x=0}^1\\mu^x(1 - \\mu)^{1-x} \\{x\\ln \\mu +  (1 - x)\\ln(1 - \\mu)\\}$\n",
    "\n",
    "$ = -(1 - \\mu)\\ln(1 - \\mu) - \\mu\\ln \\mu $"
   ]
  }
 ],
 "metadata": {
  "kernelspec": {
   "display_name": "Python 3",
   "language": "python",
   "name": "python3"
  },
  "language_info": {
   "codemirror_mode": {
    "name": "ipython",
    "version": 3
   },
   "file_extension": ".py",
   "mimetype": "text/x-python",
   "name": "python",
   "nbconvert_exporter": "python",
   "pygments_lexer": "ipython3",
   "version": "3.5.1"
  }
 },
 "nbformat": 4,
 "nbformat_minor": 0
}
