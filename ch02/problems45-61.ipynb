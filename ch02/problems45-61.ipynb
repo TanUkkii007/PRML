{
 "cells": [
  {
   "cell_type": "markdown",
   "metadata": {},
   "source": [
    "# 2.45\n",
    "\n",
    "事前分布: 精度行列$\\mathbf{\\Lambda}$に関するウィシャート分布\n",
    "\n",
    "$\\mathcal{W}(\\mathbf{\\Lambda}|\\mathbf{W}, \\nu) = B\\left|\\mathbf{\\Lambda}\\right|^{(\\nu - D - 1)/2}\\exp(-\\frac{1}{2}\\mathrm{Tr}(\\mathbf{W}^{-1}\\mathbf{\\Lambda}))$\n",
    "\n",
    "尤度関数: 精度行列$\\mathbf{\\Lambda}$が未知なガウス分布に従うN個の独立な確率の積\n",
    "\n",
    "$\\prod_{n=1}^N\\mathcal{N}(\\mathbf{x}_n|\\mathbf{\\mu}, \\mathbf{\\Lambda}^{-1})$\n",
    "\n",
    "事後分布は、\n",
    "\n",
    "$\\mathcal{W}(\\mathbf{\\Lambda}, \\nu)\\prod_{n=1}^N\\mathcal{N}(\\mathbf{x_n}|\\mathbf{\\mu}, \\mathbf{\\Lambda}^{-1})$\n",
    "\n",
    "$ \\propto \\left|\\mathbf{\\Lambda}\\right|^{(\\nu - D - 1)/2}\\exp(-\\frac{1}{2}\\mathrm{Tr}(\\mathbf{W}^{-1}\\mathbf{\\Lambda}))\\frac{1}{\\left|\\mathbf{\\Lambda}^{-1}\\right|^{1/2}}\\exp(-\\frac{1}{2}\\sum_{n=1}^N(\\mathbf{x}_n - \\mathbf{\\mu})^\\top\\mathbf{\\Lambda}(\\mathbf{x}_n - \\mathbf{\\mu}))$\n",
    "\n",
    "$ = \\left|\\mathbf{\\Lambda}\\right|^{(\\nu - D - 1)/2}\\exp(-\\frac{1}{2}\\mathrm{Tr}(\\mathbf{W}^{-1}\\mathbf{\\Lambda}))\\left|\\mathbf{\\Lambda}\\right|^{1/2}\\exp(-\\frac{1}{2}\\sum_{n=1}^N(\\mathbf{x}_n - \\mathbf{\\mu})^\\top\\mathbf{\\Lambda}(\\mathbf{x}_n - \\mathbf{\\mu}))$ 　　　$\\mathrm{det}(\\mathbf{A}^{-1}) = \\frac{1}{\\mathrm{det}(\\mathbf{A})}$より\n",
    "\n",
    "$ = \\left|\\mathbf{\\Lambda}\\right|^{(\\nu - D - 1)/2 + 1/2}\\exp(-\\frac{1}{2}\\mathrm{Tr}(\\mathbf{W}^{-1}\\mathbf{\\Lambda}))\\exp(-\\frac{1}{2}\\sum_{n=1}^N(\\mathbf{x}_n - \\mathbf{\\mu})^\\top\\mathbf{\\Lambda}(\\mathbf{x}_n - \\mathbf{\\mu}))$ 　　　$\\mathrm{det}(\\mathbf{AB}) = \\mathrm{det}(\\mathbf{A})\\mathrm{det}(\\mathbf{B})$より\n",
    "\n",
    "$ = \\left|\\mathbf{\\Lambda}\\right|^{(\\nu - D)/2}\\exp(-\\frac{1}{2}\\mathrm{Tr}(\\mathbf{W}^{-1}\\mathbf{\\Lambda}))\\exp(-\\frac{1}{2}\\sum_{n=1}^N(\\mathbf{x}_n - \\mathbf{\\mu})^\\top\\mathbf{\\Lambda}(\\mathbf{x}_n - \\mathbf{\\mu}))$\n",
    "\n",
    "$ = \\left|\\mathbf{\\Lambda}\\right|^{(\\nu - D)/2}\\exp\\left(-\\frac{1}{2}\\mathrm{Tr}(\\mathbf{W}^{-1}\\mathbf{\\Lambda}) - \\frac{1}{2}\\sum_{n=1}^N(\\mathbf{x}_n - \\mathbf{\\mu})^\\top\\mathbf{\\Lambda}(\\mathbf{x}_n - \\mathbf{\\mu})\\right)$\n",
    "\n",
    "$ = \\left|\\mathbf{\\Lambda}\\right|^{(\\nu - D)/2}\\exp\\left(-\\frac{1}{2}\\mathrm{Tr}(\\mathbf{W}^{-1}\\mathbf{\\Lambda}) - \\frac{1}{2}\\mathrm{Tr}(\\sum_{n=1}^N(\\mathbf{x}_n - \\mathbf{\\mu})^\\top\\mathbf{\\Lambda}(\\mathbf{x}_n - \\mathbf{\\mu}))\\right)$\n",
    "\n",
    "$ = \\left|\\mathbf{\\Lambda}\\right|^{(\\nu - D)/2}\\exp\\left(-\\frac{1}{2}\\mathrm{Tr}\\{\\mathbf{W}^{-1}\\mathbf{\\Lambda} + \\sum_{n=1}^N(\\mathbf{x}_n - \\mathbf{\\mu})^\\top\\mathbf{\\Lambda}(\\mathbf{x}_n - \\mathbf{\\mu})\\}\\right)$ 　　　$\\mathrm{Tr}(\\mathbf{A} + \\mathbf{B}) = \\mathrm{Tr}(\\mathbf{A}) + \\mathrm{Tr}(\\mathbf{B})$より、\n",
    "\n",
    "$ = \\left|\\mathbf{\\Lambda}\\right|^{(\\nu - D)/2}\\exp\\left(-\\frac{1}{2}\\mathrm{Tr}\\{\\mathbf{W}^{-1}\\mathbf{\\Lambda} + \\sum_{n=1}^N(\\mathbf{x}_n - \\mathbf{\\mu})(\\mathbf{x}_n - \\mathbf{\\mu})^\\top\\mathbf{\\Lambda}\\}\\right)$ 　　　トレースの循環性$\\mathrm{Tr}(\\mathbf{A}\\mathbf{B}\\mathbf{C}) = \\mathrm{Tr}(\\mathbf{B}\\mathbf{C}\\mathbf{A}) = \\mathrm{Tr}(\\mathbf{C}\\mathbf{A}\\mathbf{B})$より、\n",
    "\n",
    "$ = \\left|\\mathbf{\\Lambda}\\right|^{(\\nu - D)/2}\\exp\\left(-\\frac{1}{2}\\mathrm{Tr}\\{(\\mathbf{W}^{-1} + \\sum_{n=1}^N(\\mathbf{x}_n - \\mathbf{\\mu})(\\mathbf{x}_n - \\mathbf{\\mu})^\\top)\\mathbf{\\Lambda}\\}\\right)$\n",
    "\n",
    "これは以下のようなウィシャート分布である。\n",
    "\n",
    "$\\mathcal{W}(\\mathbf{\\Lambda}| (\\mathbf{W}^{-1} + \\sum_{n=1}^N(\\mathbf{x}_n - \\mathbf{\\mu})(\\mathbf{x}_n - \\mathbf{\\mu})^\\top), \\nu + 1)$"
   ]
  }
 ],
 "metadata": {
  "kernelspec": {
   "display_name": "Python 3",
   "language": "python",
   "name": "python3"
  },
  "language_info": {
   "codemirror_mode": {
    "name": "ipython",
    "version": 3
   },
   "file_extension": ".py",
   "mimetype": "text/x-python",
   "name": "python",
   "nbconvert_exporter": "python",
   "pygments_lexer": "ipython3",
   "version": "3.5.1"
  }
 },
 "nbformat": 4,
 "nbformat_minor": 0
}
