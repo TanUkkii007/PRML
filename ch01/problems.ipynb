{
 "cells": [
  {
   "cell_type": "markdown",
   "metadata": {},
   "source": [
    "# 1.1\n",
    "\n",
    "$y(x, w) = w_0 + w_1x + w_2x^2 + \\dots + w_Mx^M = \\sum_{j=0}^Mw_jx^j = \\mathbf{w}^\\top \\mathbf{x}$\n",
    "\n",
    "$y(x, w)$の$\\mathbf{w}$に関しての微分は、\n",
    "\n",
    "$\\frac{\\partial y(x, w)}{\\partial \\mathbf{w}} = \\mathbf{x}^\\top$\n",
    "\n",
    "$E(w) = \\frac{1}{2}\\sum_{n=1}^N\\{y(x_n, w) - t_n\\}^2$を$\\mathbf{w}$に関して微分する。\n",
    "\n",
    "$\\frac{\\partial E(w)}{\\partial \\mathbf{w}} = \\sum_{n=1}^N\\{\\{y(x_n, w) - t_n\\}\\frac{\\partial y(x_n, w)}{\\partial \\mathbf{w}}\\}$\n",
    "\n",
    "$\\frac{\\partial E(w)}{\\partial \\mathbf{w}} = \\sum_{n=1}^N\\{\\{\\mathbf{w}^\\top \\mathbf{x} - t_n\\}\\mathbf{x}^\\top\\}$ 　　　　　　　　　　　　($\\frac{\\partial y(x, w)}{\\partial \\mathbf{w}} = \\mathbf{x}^\\top$を代入)\n",
    "\n",
    "$\\frac{\\partial E(w)}{\\partial \\mathbf{w}} = \\sum_{n=1}^N\\mathbf{w}^\\top \\mathbf{x}\\mathbf{x}^\\top - \\sum_{n=1}^Nt_n\\mathbf{x}^\\top$\n",
    "\n",
    "$\\frac{\\partial E(w)}{\\partial \\mathbf{w}} = 0$とおくと、\n",
    "\n",
    "$\\sum_{n=1}^N\\mathbf{w}^\\top \\mathbf{x}\\mathbf{x}^\\top = \\sum_{n=1}^Nt_n\\mathbf{x}^\\top$\n",
    "\n",
    "$(\\sum_{n=1}^N\\mathbf{w}^\\top \\mathbf{x}\\mathbf{x}^\\top)^\\top = (\\sum_{n=1}^Nt_n\\mathbf{x}^\\top)^\\top$\n",
    "\n",
    "$\\sum_{n=1}^N(\\mathbf{w}^\\top \\mathbf{x}\\mathbf{x}^\\top)^\\top = \\sum_{n=1}^N(t_n\\mathbf{x}^\\top)^\\top$ 　　　　　　　　　　　　($(A + B)^\\top = A^\\top + B^\\top$を使用)\n",
    "\n",
    "$\\sum_{n=1}^N\\mathbf{x}\\mathbf{x}^\\top\\mathbf{w} = \\sum_{n=1}^Nt_n\\mathbf{x}$ 　　　　　　　　　　　　($(ABC \\dots)^\\top = \\dots C^\\top B^\\top A^\\top$を使用)\n",
    "\n",
    "$A = \\sum_{n=1}^N\\mathbf{x}\\mathbf{x}^\\top$とおくと、\n",
    "\n",
    "$A_{ij} = \\sum_{n=1}^Nx_n^{i + j}$\n",
    "\n",
    "$T = \\sum_{n=1}^Nt_n\\mathbf{x}$とおくと、\n",
    "\n",
    "$T_i = \\sum_{n=1}^Nt_nx_n^i$\n",
    "\n",
    "よって多項式の二乗和誤差関数を最小にするwは以下の線形方程式の解として与えられる。\n",
    "\n",
    "$A\\mathbf{w} =T$"
   ]
  }
 ],
 "metadata": {
  "kernelspec": {
   "display_name": "Python 3",
   "language": "python",
   "name": "python3"
  },
  "language_info": {
   "codemirror_mode": {
    "name": "ipython",
    "version": 3
   },
   "file_extension": ".py",
   "mimetype": "text/x-python",
   "name": "python",
   "nbconvert_exporter": "python",
   "pygments_lexer": "ipython3",
   "version": "3.5.1"
  }
 },
 "nbformat": 4,
 "nbformat_minor": 0
}
