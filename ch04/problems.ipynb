{
 "cells": [
  {
   "cell_type": "markdown",
   "metadata": {},
   "source": [
    "# 4.1\n",
    "\n",
    "$\\mathbf{x} = \\sum_n \\alpha_n \\mathbf{x}_n$ 　　　$\\sum_n \\alpha_n = 1, \\alpha_n \\ge 0$\n",
    "\n",
    "$\\mathbf{y} = \\sum_m \\beta_m \\mathbf{y}_m$ 　　　$\\sum_n \\beta = 1, \\beta \\ge 0$\n",
    "\n",
    "$\\mathbf{x}$と$\\mathbf{y}$が重なるならば、以下のような点$\\mathbf{z}$が存在する。\n",
    "\n",
    "$\\mathbf{z} = \\sum_n \\alpha_n \\mathbf{x}_n = \\sum_m \\beta_m \\mathbf{y}_m$\n",
    "\n",
    "このとき、\n",
    "\n",
    "$\\hat{\\mathbf{w}}^\\top \\mathbf{z} + w_0 = \\sum_n \\alpha_n \\hat{\\mathbf{w}}^\\top\\mathbf{x}_n + w_0$\n",
    "\n",
    "$ = \\sum_n \\alpha_n( \\hat{\\mathbf{w}}^\\top\\mathbf{x}_n + w_0)$\n",
    "\n",
    "\n",
    "そして、\n",
    "\n",
    "$\\hat{\\mathbf{w}}^\\top \\mathbf{z} + w_0 = \\sum_m \\beta_m \\hat{\\mathbf{w}}^\\top\\mathbf{y}_n + w_0$\n",
    "\n",
    "$ = \\sum_n \\beta_m( \\hat{\\mathbf{w}}^\\top\\mathbf{y}_m + w_0)$\n",
    "\n",
    "となる。\n",
    "\n",
    "$\\mathbf{x}$と$\\mathbf{y}$が線系分離可能な場合、\n",
    "\n",
    "$\\hat{\\mathbf{w}}^\\top \\mathbf{x}_n + w_0 \\gt 0$ 　　　$\\forall \\mathbf{x}_n$\n",
    "\n",
    "$\\hat{\\mathbf{w}}^\\top \\mathbf{y}_n + w_0 \\lt 0$ 　　　$\\forall \\mathbf{y}_n$\n",
    "\n",
    "を満たさなければならない。線系分離可能だとすると前者は$\\gt 0$、後者は$\\lt 0$となってしまうので矛盾する。\n",
    "\n",
    "よって凸包が重なる場合線系分離可能ではない。\n",
    "\n",
    "---\n",
    "\n",
    "２つの凸包が重なるなら線系分離可能ではない、は成り立つ。\n",
    "\n",
    "その対偶は、線系分離可能ならば２つの凸包は重ならない、であり、これもまた成り立つ。\n",
    "\n"
   ]
  }
 ],
 "metadata": {
  "kernelspec": {
   "display_name": "Python 3",
   "language": "python",
   "name": "python3"
  },
  "language_info": {
   "codemirror_mode": {
    "name": "ipython",
    "version": 3
   },
   "file_extension": ".py",
   "mimetype": "text/x-python",
   "name": "python",
   "nbconvert_exporter": "python",
   "pygments_lexer": "ipython3",
   "version": "3.5.1"
  }
 },
 "nbformat": 4,
 "nbformat_minor": 0
}
