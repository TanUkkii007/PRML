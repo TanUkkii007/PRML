{
 "cells": [
  {
   "cell_type": "markdown",
   "metadata": {},
   "source": [
    "# 5.29\n",
    "\n",
    "$\\mathcal{N}(w|\\mu, \\sigma^2) = \\frac{1}{(2\\pi\\sigma^2)^{1/2}}\\exp\\left\\{-\\frac{1}{2\\sigma^2}(w - \\mu)^2\\right\\}$\n",
    "\n",
    "$\\frac{\\partial}{\\partial w}\\mathcal{N}(w|\\mu, \\sigma^2) = -\\frac{1}{(2\\pi\\sigma^2)^{1/2}}\\exp\\left\\{-\\frac{1}{2\\sigma^2}(w - \\mu)^2\\right\\}\\frac{1}{\\sigma^2}(w - \\mu)$\n",
    "\n",
    "$\\frac{\\partial}{\\partial w}\\mathcal{N}(w|\\mu, \\sigma^2) = -\\mathcal{N}(w|\\mu, \\sigma^2)\\frac{(w - \\mu)}{\\sigma^2}$\n",
    "\n",
    "\n",
    "$\\Omega(\\mathbf{w}) = -\\sum_i\\ln\\left(\\sum_{j=1}^M \\pi_j\\mathcal{N}(w_i|\\mu_j, \\sigma_j^2)\\right)$\n",
    "\n",
    "$\\frac{\\partial}{\\partial w_k}\\Omega(\\mathbf{w}) = \\frac{\\sum_{j=1}^M\\pi_j\\mathcal{N}(w_k|\\mu_j, \\sigma_j^2)\\frac{(w_k - \\mu_j)}{\\sigma_j^2}}{\\sum_{j=1}^M \\pi_j\\mathcal{N}(w_i|\\mu_j, \\sigma_j^2)}$\n",
    "\n",
    "$\\gamma_j(w) = \\frac{\\pi_j \\mathcal{N}(w|\\mu_j, \\sigma_j^2)}{\\sum_k \\pi_k \\mathcal{N}(w|\\mu_k, \\sigma_k^2)}$とおくと、\n",
    "\n",
    "$\\frac{\\partial}{\\partial w_k}\\Omega(\\mathbf{w}) = \\sum_{j=1}^M\\gamma_j(w_k)\\frac{(w_k - \\mu_j)}{\\sigma_j^2}$\n",
    "\n",
    "\n",
    "$\\tilde{E}(\\mathbf{w}) = E(\\mathbf{w}) + \\Omega(\\mathbf{w})$\n",
    "\n",
    "$\\frac{\\partial \\tilde{E}(\\mathbf{w})}{\\partial w_i} = \\frac{\\partial E(\\mathbf{w})}{\\partial w_i} + \\sum_{j=1}^M\\gamma_j(w_i)\\frac{(w_k - \\mu_j)}{\\sigma_j^2}$"
   ]
  },
  {
   "cell_type": "markdown",
   "metadata": {},
   "source": [
    "# 5.30\n",
    "\n",
    "$\\mathcal{N}(w|\\mu, \\sigma^2) = \\frac{1}{(2\\pi\\sigma^2)^{1/2}}\\exp\\left\\{-\\frac{1}{2\\sigma^2}(w - \\mu)^2\\right\\}$\n",
    "\n",
    "$\\frac{\\partial}{\\partial \\mu}\\mathcal{N}(w|\\mu, \\sigma^2) = \\frac{1}{(2\\pi\\sigma^2)^{1/2}}\\exp\\left\\{-\\frac{1}{2\\sigma^2}(w - \\mu)^2\\right\\}\\frac{1}{\\sigma^2}(w - \\mu)$\n",
    "\n",
    "$ = \\mathcal{N}(w|\\mu, \\sigma^2)\\frac{(w - \\mu)}{\\sigma^2}$\n",
    "\n",
    "\n",
    "$\\Omega(\\mathbf{w}) = -\\sum_i\\ln\\left(\\sum_{j=1}^M \\pi_j\\mathcal{N}(w_i|\\mu_j, \\sigma_j^2)\\right)$\n",
    "\n",
    "$\\frac{\\partial}{\\partial \\mu_j}\\Omega(\\mathbf{w}) = -\\sum_i\\frac{\\pi_j\\mathcal{N}(w_i|\\mu_j, \\sigma_j^2)\\frac{(w_i - \\mu_j)}{\\sigma_j^2}}{\\sum_{j=1}^M \\pi_j\\mathcal{N}(w_i|\\mu_j, \\sigma_j^2)}$\n",
    "\n",
    "$\\gamma_j(w) = \\frac{\\pi_j \\mathcal{N}(w|\\mu_j, \\sigma_j^2)}{\\sum_k \\pi_k \\mathcal{N}(w|\\mu_k, \\sigma_k^2)}$とおくと、\n",
    "\n",
    "$\\frac{\\partial}{\\partial \\mu_j}\\Omega(\\mathbf{w}) = -\\sum_i\\gamma_j(w_i)\\frac{(w_i - \\mu_j)}{\\sigma_j^2}$\n",
    "\n",
    "\n",
    "$\\tilde{E}(\\mathbf{w}) = E(\\mathbf{w}) + \\Omega(\\mathbf{w})$\n",
    "\n",
    "$\\frac{\\partial \\tilde{E}(\\mathbf{w})}{\\partial \\mu_j} = \\frac{\\partial E(\\mathbf{w})}{\\partial \\mu_j} - \\sum_i\\gamma_j(w_i)\\frac{(w_i - \\mu_j)}{\\sigma_j^2}$\n",
    "\n",
    "$ = \\sum_i\\gamma_j(w_i)\\frac{(\\mu_j - w_i)}{\\sigma_j^2}$"
   ]
  }
 ],
 "metadata": {
  "kernelspec": {
   "display_name": "Python 3",
   "language": "python",
   "name": "python3"
  },
  "language_info": {
   "codemirror_mode": {
    "name": "ipython",
    "version": 3
   },
   "file_extension": ".py",
   "mimetype": "text/x-python",
   "name": "python",
   "nbconvert_exporter": "python",
   "pygments_lexer": "ipython3",
   "version": "3.6.3"
  }
 },
 "nbformat": 4,
 "nbformat_minor": 2
}
