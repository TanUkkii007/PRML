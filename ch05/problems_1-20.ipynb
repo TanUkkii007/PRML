{
 "cells": [
  {
   "cell_type": "markdown",
   "metadata": {},
   "source": [
    "# 5.1\n",
    "\n",
    "$\\mathrm{tanh}(a) = \\frac{\\exp(a) - \\exp(-a)}{\\exp(a) + \\exp(-a)}$\n",
    "\n",
    "\n",
    "$\\sigma(a) = \\frac{1}{1 + \\exp(-a)}$\n",
    "\n",
    "$ = \\frac{\\exp(a/2)}{\\exp(a/2) + \\exp(-a/2)}$\n",
    "\n",
    "$ = \\frac{\\exp(a/2) - \\exp(-a/2) + \\exp(-a/2)}{\\exp(a/2) + \\exp(-a/2)}$\n",
    "\n",
    "$ = \\frac{\\exp(a/2) - \\exp(-a/2)}{\\exp(a/2) + \\exp(-a/2)} + \\frac{\\exp(-a/2)}{\\exp(a/2) + \\exp(-a/2)}$\n",
    "\n",
    "$ = \\frac{\\exp(a/2) - \\exp(-a/2)}{\\exp(a/2) + \\exp(-a/2)} + \\frac{1}{\\exp(a) + 1}$\n",
    "\n",
    "$ = \\mathrm{tanh}(a/2) + \\sigma(-a)$\n",
    "\n",
    "$ = \\mathrm{tanh}(a/2) + 1 - \\sigma(a)$ 　　　$\\sigma(-a) = 1 - \\sigma(a)$より\n",
    "\n",
    "$\\sigma(a) = \\frac{1}{2}\\mathrm{tanh}(a/2) + \\frac{1}{2}$\n",
    "\n",
    "---\n",
    "\n",
    "$y_k(\\mathbf{x}, \\mathbf{w}) = \\sigma\\left(\\sum_{j=1}^M w_{kj}^{(2)}\\sigma\\left(\\sum_{i=1}^D w_{ji}^{(1)} + w_{j0}^{(1)}\\right) + w_{k0}^{(2)}\\right)$\n",
    "\n",
    "$ = \\sigma\\left(\\sum_{j=1}^M w_{kj}^{(2)}\\frac{1}{2}\\mathrm{tanh}\\left(\\frac{1}{2}\\left\\{\\sum_{i=1}^D w_{ji}^{(1)} + w_{j0}^{(1)}\\right\\}\\right) + \\frac{1}{2} + w_{k0}^{(2)}\\right)$\n"
   ]
  }
 ],
 "metadata": {
  "kernelspec": {
   "display_name": "Python 3",
   "language": "python",
   "name": "python3"
  },
  "language_info": {
   "codemirror_mode": {
    "name": "ipython",
    "version": 3
   },
   "file_extension": ".py",
   "mimetype": "text/x-python",
   "name": "python",
   "nbconvert_exporter": "python",
   "pygments_lexer": "ipython3",
   "version": "3.6.3"
  }
 },
 "nbformat": 4,
 "nbformat_minor": 2
}
