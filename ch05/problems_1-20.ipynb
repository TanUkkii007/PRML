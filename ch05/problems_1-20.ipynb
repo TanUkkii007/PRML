{
 "cells": [
  {
   "cell_type": "markdown",
   "metadata": {},
   "source": [
    "# 5.1\n",
    "\n",
    "$\\mathrm{tanh}(a) = \\frac{\\exp(a) - \\exp(-a)}{\\exp(a) + \\exp(-a)}$\n",
    "\n",
    "\n",
    "$\\sigma(a) = \\frac{1}{1 + \\exp(-a)}$\n",
    "\n",
    "$ = \\frac{\\exp(a/2)}{\\exp(a/2) + \\exp(-a/2)}$\n",
    "\n",
    "$ = \\frac{\\exp(a/2) - \\exp(-a/2) + \\exp(-a/2)}{\\exp(a/2) + \\exp(-a/2)}$\n",
    "\n",
    "$ = \\frac{\\exp(a/2) - \\exp(-a/2)}{\\exp(a/2) + \\exp(-a/2)} + \\frac{\\exp(-a/2)}{\\exp(a/2) + \\exp(-a/2)}$\n",
    "\n",
    "$ = \\frac{\\exp(a/2) - \\exp(-a/2)}{\\exp(a/2) + \\exp(-a/2)} + \\frac{1}{\\exp(a) + 1}$\n",
    "\n",
    "$ = \\mathrm{tanh}(a/2) + \\sigma(-a)$\n",
    "\n",
    "$ = \\mathrm{tanh}(a/2) + 1 - \\sigma(a)$ 　　　$\\sigma(-a) = 1 - \\sigma(a)$より\n",
    "\n",
    "$\\sigma(a) = \\frac{1}{2}\\mathrm{tanh}(a/2) + \\frac{1}{2}$\n",
    "\n",
    "---\n",
    "\n",
    "$y_k(\\mathbf{x}, \\mathbf{w}) = \\sigma\\left(\\sum_{j=1}^M w_{kj}^{(2)}\\sigma\\left(\\sum_{i=1}^D w_{ji}^{(1)} + w_{j0}^{(1)}\\right) + w_{k0}^{(2)}\\right)$\n",
    "\n",
    "$ = \\sigma\\left(\\sum_{j=1}^M w_{kj}^{(2)}\\frac{1}{2}\\mathrm{tanh}\\left(\\frac{1}{2}\\left\\{\\sum_{i=1}^D w_{ji}^{(1)} + w_{j0}^{(1)}\\right\\}\\right) + \\frac{1}{2} + w_{k0}^{(2)}\\right)$\n"
   ]
  },
  {
   "cell_type": "markdown",
   "metadata": {},
   "source": [
    "# 5.2\n",
    "\n",
    "$p(\\mathbf{t}|\\mathbf{x}, \\mathbf{w}) = \\mathcal{N}(\\mathbf{t}|\\mathbf{y}(\\mathbf{x}, \\mathbf{w}), \\beta^{-1}\\mathbf{I})$\n",
    "\n",
    "$p(\\mathbf{T}|\\mathbf{X}, \\mathbf{w}, \\beta) = \\prod_{n=1}^N p(\\mathbf{t}_n|\\mathbf{x}_n, \\mathbf{w}, \\beta)$\n",
    "\n",
    "$ = \\prod_{n=1}^N \\mathcal{N}(\\mathbf{t}_n|y(\\mathbf{x}_n, \\mathbf{w}), \\beta\\mathbf{I})$\n",
    "\n",
    "$\\ln p(\\mathbf{T}|\\mathbf{X}, \\mathbf{w}, \\beta) = -\\frac{1}{2}\\sum_{n=1}^N (\\mathbf{t}_n - y(\\mathbf{x}_n, \\mathbf{w}))^\\top\\beta\\mathbf{I}(\\mathbf{t}_n - y(\\mathbf{x}_n, \\mathbf{w})) + \\frac{N}{2}\\ln\\left|\\beta\\mathbf{I}\\right| - \\frac{N}{2}\\ln(2\\pi)$\n",
    "\n",
    "$ = -\\frac{\\beta}{2}\\sum_{n=1}^N \\|\\mathbf{t}_n - y(\\mathbf{x}_n, \\mathbf{w})\\|^2 + \\frac{NM}{2}\\ln\\beta - \\frac{N}{2}\\ln(2\\pi)$\n",
    "\n",
    "$ = -\\frac{\\beta}{2}\\sum_{n=1}^N \\|\\mathbf{t}_n - y(\\mathbf{x}_n, \\mathbf{w})\\|^2 + \\mathrm{const.}$\n",
    "\n",
    "この尤度関数の最大化は二乗和誤差関数の最小化と等しい。"
   ]
  }
 ],
 "metadata": {
  "kernelspec": {
   "display_name": "Python 3",
   "language": "python",
   "name": "python3"
  },
  "language_info": {
   "codemirror_mode": {
    "name": "ipython",
    "version": 3
   },
   "file_extension": ".py",
   "mimetype": "text/x-python",
   "name": "python",
   "nbconvert_exporter": "python",
   "pygments_lexer": "ipython3",
   "version": "3.6.3"
  }
 },
 "nbformat": 4,
 "nbformat_minor": 2
}
